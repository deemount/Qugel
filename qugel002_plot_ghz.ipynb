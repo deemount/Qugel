{
 "cells": [
  {
   "cell_type": "code",
   "execution_count": 1,
   "metadata": {},
   "outputs": [
    {
     "data": {
      "application/vnd.jupyter.widget-view+json": {
       "model_id": "59227867b20f4bf1989e956611a49de7",
       "version_major": 2,
       "version_minor": 0
      },
      "text/plain": [
       "FigureWidget({\n",
       "    'data': [{'type': 'bar',\n",
       "              'uid': 'c457d105-61fe-4474-a28c-984aa6ed3ccb',\n",
       "              'x': [Basis 0, Basis 1, Basis 2, Basis 3],\n",
       "              'y': [0, 0, 0, 0]}],\n",
       "    'layout': {'template': '...',\n",
       "               'title': {'text': 'Distribution of Real Part'},\n",
       "               'xaxis': {'title': {'text': 'Basis State'}},\n",
       "               'yaxis': {'title': {'text': 'Probability'}}}\n",
       "})"
      ]
     },
     "metadata": {},
     "output_type": "display_data"
    },
    {
     "name": "stderr",
     "output_type": "stream",
     "text": [
      "  0%|          | 0/100 [00:00<?, ?it/s]/Users/sol/.pyenv/versions/3.9.12/lib/python3.9/site-packages/pennylane/_qubit_device.py:768: UserWarning:\n",
      "\n",
      "Requested state or density matrix with finite shots; the returned state information is analytic and is unaffected by sampling. To silence this warning, set shots=None on the device.\n",
      "\n",
      "100%|██████████| 100/100 [00:01<00:00, 69.54it/s]\n"
     ]
    },
    {
     "name": "stdout",
     "output_type": "stream",
     "text": [
      "0: ──H─╭●─┤  State\n",
      "1: ────╰X─┤  State\n"
     ]
    },
    {
     "name": "stderr",
     "output_type": "stream",
     "text": [
      "/var/folders/4y/fksy204x14b55bxyl0ytbjwm0000gn/T/ipykernel_64476/2640923346.py:39: UserWarning:\n",
      "\n",
      "Matplotlib is currently using module://matplotlib_inline.backend_inline, which is a non-GUI backend, so cannot show the figure.\n",
      "\n"
     ]
    },
    {
     "data": {
      "image/png": "[encoded data removed]",
      "text/plain": [
       "<Figure size 500x300 with 1 Axes>"
      ]
     },
     "metadata": {},
     "output_type": "display_data"
    }
   ],
   "source": [
    "\"\"\"\n",
    "Quantum Circuit Distribution Plotting\n",
    "=====================================\n",
    "\n",
    "This Jupyter notebook demonstrates how to generate and plot the distribution of measurement results\n",
    "from a quantum circuit using PennyLane and Plotly. The quantum circuit used in this example is the\n",
    "GHZ circuit, which consists of Hadamard gates and controlled-NOT (CNOT) gates.\n",
    "\n",
    "The code will generate N=100 calls to the GHZ circuit and plot the distribution of the real part of\n",
    "the state vector in real time. The distribution is visualized using a histogram plot.\n",
    "\n",
    "Required Libraries:\n",
    "- PennyLane (version 0.18.0 or above)\n",
    "- Plotly (version 4.14.3 or above)\n",
    "- tqdm (version 4.61.0 or above)\n",
    "- time (built-in)\n",
    "\n",
    "\"\"\"\n",
    "\n",
    "import pennylane as qml\n",
    "import plotly.graph_objects as go\n",
    "from IPython.display import display\n",
    "from tqdm import tqdm\n",
    "import time\n",
    "\n",
    "# Quantum circuit and device setup\n",
    "wires = 2\n",
    "dev = qml.device(\"default.qubit\", wires=wires, shots=1000)\n",
    "\n",
    "def Q_Plot(circuit):\n",
    "    \"\"\"\n",
    "    Display the circuit diagram using PennyLane's draw functions.\n",
    "\n",
    "    Args:\n",
    "        circuit (qml.QNode): Quantum circuit to be displayed.\n",
    "    \"\"\"\n",
    "    fig, ax = qml.draw_mpl(circuit, expansion_strategy='device')()\n",
    "    print(qml.draw(circuit, expansion_strategy='device')())\n",
    "    fig.show()\n",
    "\n",
    "@qml.qnode(dev)\n",
    "def ghz_circuit():\n",
    "    \"\"\"\n",
    "    Definition of the GHZ circuit using PennyLane's quantum node decorator.\n",
    "\n",
    "    Returns:\n",
    "        array[float]: State vector resulting from the circuit.\n",
    "    \"\"\"\n",
    "    qml.Hadamard(wires=0)\n",
    "    qml.CNOT(wires=[0, 1])\n",
    "\n",
    "    return qml.state()\n",
    "\n",
    "# Initialize list to store results\n",
    "all_results = []\n",
    "\n",
    "# Create figure and histogram plot for the real part\n",
    "fig_real = go.FigureWidget()\n",
    "fig_real.add_bar(x=[f'Basis {i}' for i in range(2 ** wires)], y=[0] * (2 ** wires))\n",
    "fig_real.update_layout(xaxis_title='Basis State', yaxis_title='Probability', title='Distribution of Real Part')\n",
    "\n",
    "# Display the figure\n",
    "display(fig_real)\n",
    "\n",
    "# Generate N=100 calls to the quantum circuit and plot the distribution of the real part in real time\n",
    "N = 100\n",
    "for _ in tqdm(range(N)):\n",
    "    result = ghz_circuit()\n",
    "    all_results.append(result)\n",
    "\n",
    "    # Separate the real part of the state vector and calculate the corresponding probabilities\n",
    "    probs_real = abs(result.real) ** 2\n",
    "\n",
    "    # Update the histogram plot with new data\n",
    "    fig_real.data[0].y = probs_real\n",
    "\n",
    "    # Update the plot layout\n",
    "    fig_real.update_layout(title=f'Distribution of Real Part ({len(all_results)}/{N})')\n",
    "\n",
    "    # Pause to allow for interactive plotting\n",
    "    time.sleep(0.01)\n",
    "\n",
    "# Display the circuit diagram\n",
    "Q_Plot(ghz_circuit)\n"
   ]
  },
  {
   "cell_type": "code",
   "execution_count": null,
   "metadata": {},
   "outputs": [],
   "source": []
  }
 ],
 "metadata": {
  "kernelspec": {
   "display_name": "Python 3",
   "language": "python",
   "name": "python3"
  },
  "language_info": {
   "codemirror_mode": {
    "name": "ipython",
    "version": 3
   },
   "file_extension": ".py",
   "mimetype": "text/x-python",
   "name": "python",
   "nbconvert_exporter": "python",
   "pygments_lexer": "ipython3",
   "version": "3.9.12"
  },
  "orig_nbformat": 4
 },
 "nbformat": 4,
 "nbformat_minor": 2
}
