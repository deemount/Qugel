{
 "cells": [
  {
   "cell_type": "code",
   "execution_count": 1,
   "metadata": {},
   "outputs": [
    {
     "data": {
      "application/vnd.jupyter.widget-view+json": {
       "model_id": "0f73aaf655ae4101bd7d7fee82cebdc3",
       "version_major": 2,
       "version_minor": 0
      },
      "text/plain": [
       "FigureWidget({\n",
       "    'data': [{'nbinsx': 50, 'type': 'histogram', 'uid': '2898fc53-3270-4e52-b926-8880ba1a417f', 'x': []}],\n",
       "    'layout': {'template': '...'}\n",
       "})"
      ]
     },
     "metadata": {},
     "output_type": "display_data"
    },
    {
     "name": "stderr",
     "output_type": "stream",
     "text": [
      "  0%|          | 0/100 [00:00<?, ?it/s]/Users/sol/.pyenv/versions/3.9.12/lib/python3.9/site-packages/pennylane/_qubit_device.py:768: UserWarning:\n",
      "\n",
      "Requested state or density matrix with finite shots; the returned state information is analytic and is unaffected by sampling. To silence this warning, set shots=None on the device.\n",
      "\n",
      "100%|██████████| 100/100 [00:00<00:00, 358.45it/s]\n"
     ]
    }
   ],
   "source": [
    "\"\"\"\n",
    "Entanglement Circuit with Gaussian Noise Distribution\n",
    "=====================================================\n",
    "\n",
    "This Jupyter notebook demonstrates how to generate entanglement using a quantum circuit\n",
    "with PennyLane. The circuit includes Hadamard gates, controlled-NOT (CNOT) gates, and \n",
    "rotation gates (RY). The circuit is then fed with samples from a Gaussian distribution.\n",
    "\n",
    "The code generates N=1000 calls to the entanglement circuit and plots the distribution \n",
    "of the absolute values of the results in real time. The distribution is visualized \n",
    "using a histogram plot.\n",
    "\n",
    "Required Libraries:\n",
    "- PennyLane (version 0.18.0 or above)\n",
    "- NumPy (version 1.20.3 or above)\n",
    "- Plotly (version 4.14.3 or above)\n",
    "- tqdm (version 4.61.0 or above)\n",
    "\n",
    "\"\"\"\n",
    "\n",
    "import pennylane as qml\n",
    "import numpy as np\n",
    "import plotly.graph_objects as go\n",
    "from IPython.display import display\n",
    "from tqdm import tqdm\n",
    "\n",
    "# Quantum circuit and device setup\n",
    "wires = 3\n",
    "dev = qml.device(\"default.qubit\", wires=wires, shots=1000)\n",
    "\n",
    "# Gaussian distribution parameters\n",
    "mean = 0\n",
    "std = 1\n",
    "\n",
    "def Q_Plot(circuit):\n",
    "    \"\"\"\n",
    "    Display the circuit diagram using PennyLane's draw functions.\n",
    "\n",
    "    Args:\n",
    "        circuit (qml.QNode): Quantum circuit to be displayed.\n",
    "    \"\"\"\n",
    "    fig, ax = qml.draw_mpl(circuit, expansion_strategy='device')()\n",
    "    print(qml.draw(circuit, expansion_strategy='device')())\n",
    "    fig.show()\n",
    "\n",
    "@qml.qnode(dev)\n",
    "def entanglement_circuit(params):\n",
    "    \"\"\"\n",
    "    Definition of the entanglement circuit using PennyLane's quantum node decorator.\n",
    "\n",
    "    Args:\n",
    "        params (array[float]): Parameters for the rotation gates.\n",
    "\n",
    "    Returns:\n",
    "        array[complex]: State vector resulting from the circuit.\n",
    "    \"\"\"\n",
    "    qml.Hadamard(wires=0)\n",
    "    qml.CNOT(wires=[0, 1])\n",
    "    qml.RY(params[0], wires=0)\n",
    "    qml.RY(params[1], wires=1)\n",
    "    qml.RY(params[2], wires=2)\n",
    "\n",
    "    return qml.state()\n",
    "\n",
    "# Initialize list to store results\n",
    "all_results = []\n",
    "\n",
    "# Create figure and histogram plot\n",
    "fig = go.FigureWidget()\n",
    "fig.add_histogram(x=[], nbinsx=50)\n",
    "\n",
    "# Display the figure\n",
    "display(fig)\n",
    "\n",
    "# Generate N=1000 calls to the quantum circuit and plot their distribution in real time\n",
    "N = 100\n",
    "params=None \n",
    "for _ in tqdm(range(N)):\n",
    "    # Generate samples from Gaussian distribution\n",
    "    params = np.random.normal(mean, std, size=3)\n",
    "\n",
    "    # Run the entanglement circuit\n",
    "    result = entanglement_circuit(params)\n",
    "\n",
    "    # Update the histogram plot data\n",
    "    all_results.append(result)\n",
    "    flattened_results = np.abs(np.array(all_results).flatten())\n",
    "    fig.data[0].x = flattened_results\n",
    "\n",
    "    # Update the plot layout\n",
    "    fig.update_layout(xaxis_title='Values', yaxis_title='Frequency', title=f'Distribution of Results')\n"
   ]
  },
  {
   "cell_type": "code",
   "execution_count": null,
   "metadata": {},
   "outputs": [],
   "source": []
  }
 ],
 "metadata": {
  "kernelspec": {
   "display_name": "Python 3",
   "language": "python",
   "name": "python3"
  },
  "language_info": {
   "codemirror_mode": {
    "name": "ipython",
    "version": 3
   },
   "file_extension": ".py",
   "mimetype": "text/x-python",
   "name": "python",
   "nbconvert_exporter": "python",
   "pygments_lexer": "ipython3",
   "version": "3.9.12"
  },
  "orig_nbformat": 4
 },
 "nbformat": 4,
 "nbformat_minor": 2
}
